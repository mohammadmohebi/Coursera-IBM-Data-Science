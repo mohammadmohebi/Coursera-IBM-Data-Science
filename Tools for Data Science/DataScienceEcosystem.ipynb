{
 "cells": [
  {
   "cell_type": "markdown",
   "id": "68f78013-bbb3-41bd-8dde-889ae34bd63a",
   "metadata": {},
   "source": [
    "**Exercise 2:** Create markdown cell with title of the notebook"
   ]
  },
  {
   "cell_type": "markdown",
   "id": "efaf4d32-26e3-4419-bc1e-447ff6cf3863",
   "metadata": {},
   "source": [
    "# Data Science Tools and Ecosystem"
   ]
  },
  {
   "cell_type": "markdown",
   "id": "9e8e5474-bd81-4a79-ae00-d0325c50d627",
   "metadata": {},
   "source": [
    "**Exercise 3:** Create a markdown cell for an introduction"
   ]
  },
  {
   "cell_type": "markdown",
   "id": "3a09d46e-c52c-4d02-8647-693d79bfa02e",
   "metadata": {},
   "source": [
    "In this notebook, Data Science Tools and Ecosystem are summarized."
   ]
  },
  {
   "cell_type": "markdown",
   "id": "4e11bfac-6c46-422d-a5a8-c6d7022808cd",
   "metadata": {},
   "source": [
    "**Exercise 10**: Insert a markdown cell to list Objectives"
   ]
  },
  {
   "cell_type": "markdown",
   "id": "2f40df80-4e38-4029-bfda-96432ad0f169",
   "metadata": {},
   "source": [
    "Objectives:\n",
    "* List popular languages for Data Sciences\n",
    "* Create a code cell to multiply and add numbers\n",
    "* Create a markdown cell with a table of Data Science tools"
   ]
  },
  {
   "cell_type": "markdown",
   "id": "b836db40-f016-4d05-a259-1847fa9f64b4",
   "metadata": {},
   "source": [
    "**Exercise 4:** Create a markdown cell to list data science languages"
   ]
  },
  {
   "cell_type": "markdown",
   "id": "0cb5b3cd-deb5-4240-82c3-986a269cc75c",
   "metadata": {},
   "source": [
    "Some of the popular languages that Data Scientists use are:\n",
    "1. Python\n",
    "2. R\n",
    "3. SQL"
   ]
  },
  {
   "cell_type": "markdown",
   "id": "00e6483f-0a68-4837-acee-effefbb28a44",
   "metadata": {},
   "source": [
    "**Exercise 5:** Create a markdown cell to list data science libraries"
   ]
  },
  {
   "cell_type": "markdown",
   "id": "f549fc75-7132-42af-8293-f9efaaa11665",
   "metadata": {},
   "source": [
    "Some of the commonly used libraries used by Data Scientists include:\n",
    "1. Pandas\n",
    "2. Numpy\n",
    "3. Matplotlib\n",
    "4. PyTorch\n",
    "5. TensorFlow"
   ]
  },
  {
   "cell_type": "markdown",
   "id": "75e54c09-64f1-47da-a110-7a86cf7c8523",
   "metadata": {},
   "source": [
    "**Exercise 6:** Create a markdown cell with a table of Data Science tools"
   ]
  },
  {
   "cell_type": "markdown",
   "id": "83e5e29f-9035-452c-b487-b552fceca6b7",
   "metadata": {},
   "source": [
    "|Data Science Tools|\n",
    "|------------------|\n",
    "|JupyterLab        |\n",
    "|Apache Spark      |\n",
    "|Apache Airflow    |"
   ]
  },
  {
   "cell_type": "markdown",
   "id": "25246da3-699c-4897-ac84-21425177406d",
   "metadata": {},
   "source": [
    "**Exercise 7:** Create a markdown cell introducing arithmetic expression examples"
   ]
  },
  {
   "cell_type": "markdown",
   "id": "5cb5a302-458d-4433-aaba-505fb63a1207",
   "metadata": {},
   "source": [
    "### Below are a few examples of evaluating arithmetic expressions in Python\n"
   ]
  },
  {
   "cell_type": "markdown",
   "id": "1d1e6cca-fb07-4c67-a135-900786c4b35b",
   "metadata": {},
   "source": [
    "**Exercise 8:** Create a code cell to multiply and add numbers"
   ]
  },
  {
   "cell_type": "code",
   "execution_count": 55,
   "id": "5bc18243-420b-4aa1-a9bf-7d44c1af8800",
   "metadata": {},
   "outputs": [
    {
     "data": {
      "text/plain": [
       "17"
      ]
     },
     "execution_count": 55,
     "metadata": {},
     "output_type": "execute_result"
    }
   ],
   "source": [
    "# This a simple arithmetic expression to mutiply then add integers\n",
    "(3 * 4) + 5"
   ]
  },
  {
   "cell_type": "markdown",
   "id": "8d0e705c-30d2-4165-87d0-fa9d0a14a6e7",
   "metadata": {},
   "source": [
    "**Exercise 9:** Create a code cell to convert minutes to hours"
   ]
  },
  {
   "cell_type": "code",
   "execution_count": 37,
   "id": "ad0c8b1f-6d84-496c-b7c5-e2520d12bb98",
   "metadata": {},
   "outputs": [
    {
     "data": {
      "text/plain": [
       "3.3333333333333335"
      ]
     },
     "execution_count": 37,
     "metadata": {},
     "output_type": "execute_result"
    }
   ],
   "source": [
    "# This will convert 200 minutes to hours by diving by 60\n",
    "200 / 60"
   ]
  },
  {
   "cell_type": "markdown",
   "id": "4e6615f1-8761-4204-85e0-71b3443f1866",
   "metadata": {},
   "source": [
    "**Exercise 11**: Create a markdown cell to indicate the Author's name"
   ]
  },
  {
   "cell_type": "markdown",
   "id": "bc927619-8f1f-4e7b-8a44-3748042fb56c",
   "metadata": {},
   "source": [
    "## Author\n",
    "Mohammad Mohebi"
   ]
  },
  {
   "cell_type": "code",
   "execution_count": null,
   "id": "4cca25b9-8193-42a0-8ffc-e3a859e3afa8",
   "metadata": {},
   "outputs": [],
   "source": []
  }
 ],
 "metadata": {
  "kernelspec": {
   "display_name": "Python [conda env:base] *",
   "language": "python",
   "name": "conda-base-py"
  },
  "language_info": {
   "codemirror_mode": {
    "name": "ipython",
    "version": 3
   },
   "file_extension": ".py",
   "mimetype": "text/x-python",
   "name": "python",
   "nbconvert_exporter": "python",
   "pygments_lexer": "ipython3",
   "version": "3.12.7"
  }
 },
 "nbformat": 4,
 "nbformat_minor": 5
}
